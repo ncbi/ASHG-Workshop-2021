{
 "cells": [
  {
   "cell_type": "code",
   "execution_count": null,
   "id": "71858578",
   "metadata": {},
   "outputs": [],
   "source": []
  },
  {
   "cell_type": "code",
   "execution_count": null,
   "id": "a86ac550",
   "metadata": {
    "lines_to_next_cell": 2
   },
   "outputs": [],
   "source": [
    "\n",
    "\n",
    "get_ipython().run_cell_magic('bash', '', '\\nrm -f -- ~/.env\\ncp /etc/skel/.env ~/')"
   ]
  },
  {
   "cell_type": "code",
   "execution_count": null,
   "id": "7b80c6d8",
   "metadata": {
    "lines_to_next_cell": 2
   },
   "outputs": [],
   "source": [
    "\n",
    "\n",
    "from dotenv import load_dotenv\n",
    "load_dotenv()"
   ]
  },
  {
   "cell_type": "code",
   "execution_count": null,
   "id": "ef67aab4",
   "metadata": {
    "lines_to_next_cell": 2
   },
   "outputs": [],
   "source": [
    "\n",
    "\n",
    "get_ipython().run_cell_magic('bash', '', '\\naws configure set aws_access_key_id \"$AWS_ACCESS_KEY_ID\"\\naws configure set aws_secret_access_key \"$AWS_SECRET_ACCESS_KEY\" \\naws configure set region \"us-east-1\" \\naws configure set output \"text\"\\n')"
   ]
  },
  {
   "cell_type": "code",
   "execution_count": 1,
   "id": "596d3791",
   "metadata": {
    "lines_to_next_cell": 2
   },
   "outputs": [
    {
     "name": "stdout",
     "output_type": "stream",
     "text": [
      "/arhodes-sql-workshop\n",
      "BUCKETS\t2021-08-30T19:29:32.000Z\tarhodes-sql-workshop\n"
     ]
    }
   ],
   "source": [
    "\n",
    "\n",
    "get_ipython().run_cell_magic('bash', '', '\\nbucketname=\"$(echo $USER\"-sql-workshop\"|cut -d \"-\" -f2-)\"\\necho \"BUCKETNAME=s3://$bucketname\" >> ~/.env\\n\\naws s3api create-bucket --bucket $bucketname --region us-east-1\\naws s3api list-buckets | grep $bucketname ')"
   ]
  },
  {
   "cell_type": "code",
   "execution_count": null,
   "id": "ac09c750",
   "metadata": {
    "lines_to_next_cell": 2
   },
   "outputs": [],
   "source": [
    "\n",
    "\n",
    "load_dotenv()"
   ]
  },
  {
   "cell_type": "code",
   "execution_count": null,
   "id": "62bbc470",
   "metadata": {
    "lines_to_next_cell": 2
   },
   "outputs": [],
   "source": [
    "\n",
    "\n",
    "import os\n",
    "os.environ['ATHENA_REGION']= 'us-east-1'\n",
    "os.environ['ATHENA_STAGING']= os.getenv('BUCKETNAME')\n",
    "os.environ['ATHENA_DATABASE']='sra'"
   ]
  },
  {
   "cell_type": "code",
   "execution_count": null,
   "id": "7124f670",
   "metadata": {},
   "outputs": [],
   "source": [
    "\n",
    "\n",
    "import pyathena\n",
    "import pandas as pd\n",
    "\n",
    "\n",
    "#This line of code gives the connection information to AWS, this variable is used in the sql commands\n",
    "\n",
    "athena_conn = pyathena.connect(aws_access_key_id=os.getenv('AWS_ACCESS_KEY_ID'), ##credentials of aws_access_key_id\n",
    "                 aws_secret_access_key=os.getenv('AWS_SECRET_ACCESS_KEY'), ##credentials of aws_secret_access_key\n",
    "                 s3_staging_dir=os.environ['ATHENA_STAGING'], ##where the athena query result saved - checked in S3 ,\n",
    "                 region_name=os.environ['ATHENA_REGION']) ##the region you set for Athena\n",
    "\n"
   ]
  },
  {
   "cell_type": "code",
   "execution_count": null,
   "id": "ca8a54d5",
   "metadata": {
    "lines_to_next_cell": 2
   },
   "outputs": [],
   "source": [
    "\n",
    "\n",
    "get_ipython().run_line_magic('reload_ext', 'sql')"
   ]
  },
  {
   "cell_type": "code",
   "execution_count": null,
   "id": "1f723fe8",
   "metadata": {
    "lines_to_next_cell": 2
   },
   "outputs": [],
   "source": [
    "\n",
    "\n",
    "import sqlalchemy\n",
    "from urllib.parse import quote_plus\n",
    "from sqlalchemy.engine import create_engine\n",
    "\n",
    "\n",
    "AWS_ACCESS_KEY = os.getenv('AWS_ACCESS_KEY_ID')\n",
    "AWS_SECRET_KEY = os.getenv('AWS_SECRET_ACCESS_KEY')\n",
    "SCHEMA_NAME = os.getenv('ATHENA_DATABASE')\n",
    "S3_STAGING_DIR = os.environ['BUCKETNAME']\n",
    "AWS_REGION = \"us-east-1\"\n",
    "\n",
    "\n",
    "conn_str = (\n",
    "    \"awsathena+rest://{aws_access_key_id}:{aws_secret_access_key}@\"\\\n",
    "    \"athena.{region_name}.amazonaws.com/\"\\\n",
    "    \"{schema_name}?s3_staging_dir={s3_staging_dir}/\"\n",
    ")\n",
    "\n",
    "\n",
    "\n",
    "# Create the SQLAlchemy connection. Note that you need to have pyathena installed for this.\n",
    "connection = conn_str.format(\n",
    "        aws_access_key_id=AWS_ACCESS_KEY,\n",
    "        aws_secret_access_key=AWS_SECRET_KEY,\n",
    "        region_name=AWS_REGION,\n",
    "        schema_name=SCHEMA_NAME,\n",
    "        s3_staging_dir=S3_STAGING_DIR,\n",
    "    )"
   ]
  },
  {
   "cell_type": "code",
   "execution_count": null,
   "id": "0f279057",
   "metadata": {
    "lines_to_next_cell": 2
   },
   "outputs": [],
   "source": [
    "\n",
    "\n",
    "get_ipython().system('echo \"DATABASE_URL=$connection\">> ~/.env')"
   ]
  },
  {
   "cell_type": "code",
   "execution_count": null,
   "id": "e208d13d",
   "metadata": {
    "lines_to_next_cell": 2
   },
   "outputs": [],
   "source": [
    "\n",
    "\n",
    "load_dotenv()"
   ]
  },
  {
   "cell_type": "code",
   "execution_count": null,
   "id": "1699da52",
   "metadata": {
    "lines_to_next_cell": 2
   },
   "outputs": [],
   "source": [
    "\n",
    "\n",
    "get_ipython().run_line_magic('config', 'SqlMagic.displaycon = False')"
   ]
  },
  {
   "cell_type": "code",
   "execution_count": null,
   "id": "d5745ae4",
   "metadata": {
    "lines_to_next_cell": 2
   },
   "outputs": [],
   "source": [
    "\n",
    "\n",
    "get_ipython().run_cell_magic('sql', '', \"\\nSELECT acc, librarysource, bioproject, geo_loc_name_country_calc\\nFROM sra.metadata\\nWHERE organism = 'Homo sapiens'\\nLIMIT 5\")"
   ]
  },
  {
   "cell_type": "code",
   "execution_count": null,
   "id": "0950b4e1",
   "metadata": {},
   "outputs": [],
   "source": [
    "\n",
    "\n",
    "\n"
   ]
  },
  {
   "cell_type": "code",
   "execution_count": null,
   "id": "9b01d1fd",
   "metadata": {
    "lines_to_next_cell": 2
   },
   "outputs": [],
   "source": [
    "\n",
    "\n",
    "#Use this code block by removing the \"#\" in front of the following commands \n",
    "#This is needed outside of the workshop to set up credentials for your AWS Account\n",
    "#This has already been done on the workshop server but the keys will stop working after September 15,2021\n",
    "\n",
    "#%env AWS_ACCESS_KEY_ID=<your_AWS_Access ID>\n",
    "#%env AWS_SECRET_ACCESS_KEY=<your AWS Secret>\n",
    "#%env BUCKETNAME=<your staging bucket name>\n",
    "\n",
    "#!sudo pip install pyathena \n",
    "#!sudo pip install ipython-sql\n",
    "#!pip install sqlalchemy"
   ]
  },
  {
   "cell_type": "code",
   "execution_count": null,
   "id": "5621c0f7",
   "metadata": {
    "lines_to_next_cell": 2
   },
   "outputs": [],
   "source": [
    "\n",
    "\n"
   ]
  }
 ],
 "metadata": {
  "jupytext": {
   "cell_metadata_filter": "-all",
   "encoding": "# coding: utf-8",
   "executable": "/usr/bin/env python",
   "formats": "auto:hydrogen,ipynb",
   "main_language": "python",
   "notebook_metadata_filter": "-all"
  },
  "kernelspec": {
   "display_name": "Python 3 (ipykernel)",
   "language": "python",
   "name": "python3"
  },
  "language_info": {
   "codemirror_mode": {
    "name": "ipython",
    "version": 3
   },
   "file_extension": ".py",
   "mimetype": "text/x-python",
   "name": "python",
   "nbconvert_exporter": "python",
   "pygments_lexer": "ipython3",
   "version": "3.7.3"
  }
 },
 "nbformat": 4,
 "nbformat_minor": 5
}
