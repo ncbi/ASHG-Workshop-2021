{
 "cells": [
  {
   "cell_type": "code",
   "execution_count": 27,
   "id": "f4e821fe",
   "metadata": {},
   "outputs": [
    {
     "name": "stdout",
     "output_type": "stream",
     "text": [
      "arhodes-sql-workshop\n",
      "/arhodes-sql-workshop\n",
      "BUCKETS\t2021-08-30T19:29:32.000Z\tarhodes-sql-workshop\n"
     ]
    }
   ],
   "source": [
    "%%bash\n",
    "\n",
    "bucketname=\"$(echo $USER\"-sql-workshop\"|cut -d \"-\" -f2-)\"\n",
    "echo $bucketname\n",
    "\n",
    "cp /etc/skel/.env ~/\n",
    "echo \"BUCKETNAME=\"$bucketname >> ~/.env\n",
    "\n",
    "aws s3api create-bucket --bucket $bucketname --region us-east-1\n",
    "aws s3api list-buckets | grep $bucketname "
   ]
  },
  {
   "cell_type": "code",
   "execution_count": 28,
   "id": "5205368a",
   "metadata": {},
   "outputs": [
    {
     "data": {
      "text/plain": [
       "True"
      ]
     },
     "execution_count": 28,
     "metadata": {},
     "output_type": "execute_result"
    }
   ],
   "source": [
    "from dotenv import load_dotenv\n",
    "load_dotenv()"
   ]
  },
  {
   "cell_type": "code",
   "execution_count": 29,
   "id": "88d6a92b",
   "metadata": {},
   "outputs": [
    {
     "data": {
      "text/plain": [
       "'arhodes-sql-workshop'"
      ]
     },
     "execution_count": 29,
     "metadata": {},
     "output_type": "execute_result"
    }
   ],
   "source": [
    "import os \n",
    "os.getenv('BUCKETNAME')"
   ]
  },
  {
   "cell_type": "code",
   "execution_count": 30,
   "id": "97fc2fd4",
   "metadata": {},
   "outputs": [],
   "source": [
    "import os\n",
    "os.environ['ATHENA_USER'] = os.getenv('AWS_ACCESS_KEY_ID')\n",
    "os.environ['ATHENA_PASSWORD'] = os.getenv('AWS_SECRET_ACCESS_KEY')\n",
    "os.environ['ATHENA_REGION']= 'us-east-1'\n",
    "os.environ['ATHENA_STAGING']= os.getenv('BUCKETNAME')\n",
    "os.environ['ATHENA_DATABASE']='sra'"
   ]
  },
  {
   "cell_type": "code",
   "execution_count": 31,
   "id": "e2270539",
   "metadata": {},
   "outputs": [],
   "source": [
    "import pyathena\n",
    "import pandas as pd\n",
    "\n",
    "\n",
    "#This line of code gives the connection information to AWS, this variable is used in the sql commands\n",
    "\n",
    "athena_conn = pyathena.connect(aws_access_key_id=os.environ['ATHENA_USER'], ##credentials of aws_access_key_id\n",
    "                 aws_secret_access_key=os.environ['ATHENA_PASSWORD'], ##credentials of aws_secret_access_key\n",
    "                 s3_staging_dir=os.environ['ATHENA_STAGING'], ##where the athena query result saved - checked in S3 ,\n",
    "                 region_name=os.environ['ATHENA_REGION']) ##the region you set for Athena\n",
    "\n",
    "\n"
   ]
  },
  {
   "cell_type": "code",
   "execution_count": 32,
   "id": "4fdde97d",
   "metadata": {},
   "outputs": [
    {
     "name": "stdout",
     "output_type": "stream",
     "text": [
      "The sql extension is already loaded. To reload it, use:\n",
      "  %reload_ext sql\n"
     ]
    }
   ],
   "source": [
    "%load_ext sql"
   ]
  },
  {
   "cell_type": "code",
   "execution_count": 43,
   "id": "1fb145b2",
   "metadata": {},
   "outputs": [],
   "source": [
    "import sqlalchemy\n",
    "from urllib.parse import quote_plus\n",
    "from urllib.parse import quote\n",
    "from sqlalchemy.engine import create_engine\n",
    "\n",
    "\n",
    "AWS_ACCESS_KEY = os.environ['ATHENA_USER']\n",
    "AWS_SECRET_KEY = os.environ['ATHENA_PASSWORD']\n",
    "SCHEMA_NAME = os.environ['ATHENA_DATABASE']\n",
    "S3_STAGING_DIR = \"s3://\" + os.environ['ATHENA_STAGING']\n",
    "AWS_REGION = \"us-east-1\"\n",
    "\n",
    "\n",
    "conn_str = (\n",
    "    \"awsathena+rest://{aws_access_key_id}:{aws_secret_access_key}@\"\n",
    "    \"athena.{region_name}.amazonaws.com/\"\n",
    "    \"{schema_name}?s3_staging_dir{s3_staging_dir}\"\n",
    ")\n",
    "\n",
    "\n",
    "\n",
    "# Create the SQLAlchemy connection. Note that you need to have pyathena installed for this.\n",
    "connection = conn_str.format(\n",
    "        aws_access_key_id=quote_plus(AWS_ACCESS_KEY),\n",
    "        aws_secret_access_key=AWS_SECRET_KEY,\n",
    "        region_name=AWS_REGION,\n",
    "        schema_name=SCHEMA_NAME,\n",
    "        s3_staging_dir=S3_STAGING_DIR,\n",
    "    )\n",
    "\n",
    "engine = create_engine(connection)\n",
    "\n",
    "#&work_group=primary\""
   ]
  },
  {
   "cell_type": "code",
   "execution_count": 45,
   "id": "a6296a90",
   "metadata": {},
   "outputs": [],
   "source": [
    "%config SqlMagic.displaycon = False"
   ]
  },
  {
   "cell_type": "code",
   "execution_count": 46,
   "id": "cd0a271e",
   "metadata": {},
   "outputs": [
    {
     "name": "stdout",
     "output_type": "stream",
     "text": [
      "Done.\n"
     ]
    },
    {
     "data": {
      "text/html": [
       "<table>\n",
       "    <tr>\n",
       "        <th>acc</th>\n",
       "        <th>librarysource</th>\n",
       "        <th>bioproject</th>\n",
       "        <th>geo_loc_name_country_calc</th>\n",
       "    </tr>\n",
       "    <tr>\n",
       "        <td>ERR2864488</td>\n",
       "        <td>GENOMIC</td>\n",
       "        <td>PRJEB29458</td>\n",
       "        <td>None</td>\n",
       "    </tr>\n",
       "    <tr>\n",
       "        <td>ERR2777656</td>\n",
       "        <td>GENOMIC</td>\n",
       "        <td>PRJEB28471</td>\n",
       "        <td>None</td>\n",
       "    </tr>\n",
       "    <tr>\n",
       "        <td>ERR2809354</td>\n",
       "        <td>GENOMIC</td>\n",
       "        <td>PRJEB28664</td>\n",
       "        <td>None</td>\n",
       "    </tr>\n",
       "    <tr>\n",
       "        <td>ERR2809215</td>\n",
       "        <td>GENOMIC</td>\n",
       "        <td>PRJEB28664</td>\n",
       "        <td>None</td>\n",
       "    </tr>\n",
       "    <tr>\n",
       "        <td>ERR2809488</td>\n",
       "        <td>GENOMIC</td>\n",
       "        <td>PRJEB28664</td>\n",
       "        <td>None</td>\n",
       "    </tr>\n",
       "</table>"
      ],
      "text/plain": [
       "[('ERR2864488', 'GENOMIC', 'PRJEB29458', None),\n",
       " ('ERR2777656', 'GENOMIC', 'PRJEB28471', None),\n",
       " ('ERR2809354', 'GENOMIC', 'PRJEB28664', None),\n",
       " ('ERR2809215', 'GENOMIC', 'PRJEB28664', None),\n",
       " ('ERR2809488', 'GENOMIC', 'PRJEB28664', None)]"
      ]
     },
     "execution_count": 46,
     "metadata": {},
     "output_type": "execute_result"
    }
   ],
   "source": [
    "%%sql \n",
    "\n",
    "SELECT acc, librarysource, bioproject, geo_loc_name_country_calc\n",
    "FROM sra.metadata\n",
    "WHERE organism = 'Homo sapiens'\n",
    "LIMIT 5"
   ]
  },
  {
   "cell_type": "code",
   "execution_count": null,
   "id": "3b1c16bb",
   "metadata": {},
   "outputs": [],
   "source": []
  },
  {
   "cell_type": "code",
   "execution_count": null,
   "id": "c1539bba",
   "metadata": {},
   "outputs": [],
   "source": []
  },
  {
   "cell_type": "code",
   "execution_count": null,
   "id": "eae031b9",
   "metadata": {},
   "outputs": [],
   "source": []
  },
  {
   "cell_type": "code",
   "execution_count": null,
   "id": "a306e731",
   "metadata": {},
   "outputs": [],
   "source": []
  },
  {
   "cell_type": "code",
   "execution_count": null,
   "id": "39cbb3b0",
   "metadata": {},
   "outputs": [],
   "source": []
  },
  {
   "cell_type": "code",
   "execution_count": null,
   "id": "6a2bb700",
   "metadata": {},
   "outputs": [],
   "source": []
  },
  {
   "cell_type": "code",
   "execution_count": null,
   "id": "52c4e113",
   "metadata": {},
   "outputs": [],
   "source": [
    "#Use this code block by removing the \"#\" in front of the following commands \n",
    "#After the workshop to set up credentials for your AWS Account To use this Notebook\n",
    "#This has already been done on the workshop server\n",
    "\n",
    "#%env AWS_ACCESS_KEY_ID=<your_AWS_Access ID>\n",
    "#%env AWS_SECRET_ACCESS_KEY=<your AWS Secret>\n",
    "#%env BUCKETNAME=<your staging bucket name>\n",
    "\n",
    "\n",
    "#!aws configure set aws_access_key_id \"$AWS_ACCESS_KEY_ID\"\n",
    "#!aws configure set aws_secret_access_key \"$AWS_SECRET_ACCESS_KEY\" \n",
    "#!aws configure set region \"us-east-1\" \n",
    "#!aws configure set output \"text\"\n",
    "\n",
    "\n",
    "#!sudo pip install pyathena \n",
    "#!sudo pip install ipython-sql\n",
    "#!pip install sqlalchemy\n",
    "\n"
   ]
  },
  {
   "cell_type": "code",
   "execution_count": null,
   "id": "7732c684",
   "metadata": {},
   "outputs": [],
   "source": []
  }
 ],
 "metadata": {
  "kernelspec": {
   "display_name": "Python 3 (ipykernel)",
   "language": "python",
   "name": "python3"
  },
  "language_info": {
   "codemirror_mode": {
    "name": "ipython",
    "version": 3
   },
   "file_extension": ".py",
   "mimetype": "text/x-python",
   "name": "python",
   "nbconvert_exporter": "python",
   "pygments_lexer": "ipython3",
   "version": "3.7.3"
  }
 },
 "nbformat": 4,
 "nbformat_minor": 5
}
