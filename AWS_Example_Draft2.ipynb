{
 "cells": [
  {
   "cell_type": "code",
   "execution_count": 1,
   "id": "5205368a",
   "metadata": {},
   "outputs": [
    {
     "data": {
      "text/plain": [
       "True"
      ]
     },
     "execution_count": 1,
     "metadata": {},
     "output_type": "execute_result"
    }
   ],
   "source": [
    "from dotenv import load_dotenv\n",
    "load_dotenv()"
   ]
  },
  {
   "cell_type": "code",
   "execution_count": 2,
   "id": "8502b1f4",
   "metadata": {},
   "outputs": [],
   "source": [
    "!aws configure set aws_access_key_id \"$AWS_ACCESS_KEY_ID\"\n",
    "!aws configure set aws_secret_access_key \"$AWS_SECRET_ACCESS_KEY\" \n",
    "!aws configure set region \"us-east-1\" \n",
    "!aws configure set output \"text\"\n",
    "\n"
   ]
  },
  {
   "cell_type": "code",
   "execution_count": 3,
   "id": "f4e821fe",
   "metadata": {},
   "outputs": [
    {
     "name": "stdout",
     "output_type": "stream",
     "text": [
      "testing4-sql-workshop\n",
      "/testing4-sql-workshop\n",
      "BUCKETS\t2021-09-15T15:19:44.000Z\ttesting4-sql-workshop\n"
     ]
    }
   ],
   "source": [
    "%%bash\n",
    "\n",
    "bucketname=\"$(echo $USER\"-sql-workshop\"|cut -d \"-\" -f2-)\"\n",
    "echo $bucketname\n",
    "\n",
    "cp /etc/skel/.env ~/\n",
    "echo \"BUCKETNAME=\"$bucketname >> ~/.env\n",
    "\n",
    "aws s3api create-bucket --bucket $bucketname --region us-east-1\n",
    "aws s3api list-buckets | grep $bucketname "
   ]
  },
  {
   "cell_type": "code",
   "execution_count": null,
   "id": "3b1c16bb",
   "metadata": {},
   "outputs": [],
   "source": []
  },
  {
   "cell_type": "code",
   "execution_count": null,
   "id": "c1539bba",
   "metadata": {},
   "outputs": [],
   "source": []
  },
  {
   "cell_type": "code",
   "execution_count": null,
   "id": "eae031b9",
   "metadata": {},
   "outputs": [],
   "source": []
  },
  {
   "cell_type": "code",
   "execution_count": null,
   "id": "a306e731",
   "metadata": {},
   "outputs": [],
   "source": []
  },
  {
   "cell_type": "code",
   "execution_count": null,
   "id": "39cbb3b0",
   "metadata": {},
   "outputs": [],
   "source": []
  },
  {
   "cell_type": "code",
   "execution_count": null,
   "id": "6a2bb700",
   "metadata": {},
   "outputs": [],
   "source": []
  },
  {
   "cell_type": "code",
   "execution_count": null,
   "id": "52c4e113",
   "metadata": {},
   "outputs": [],
   "source": [
    "#Use this code block by removing the \"#\" in front of the following commands \n",
    "#After the workshop to set up credentials for your AWS Account To use this Notebook\n",
    "#This has already been done on the workshop server\n",
    "\n",
    "#%env AWS_ACCESS_KEY_ID=<your_AWS_Access ID>\n",
    "#%env AWS_SECRET_ACCESS_KEY=<your AWS Secret>\n",
    "#%env BUCKETNAME=<your staging bucket name>\n",
    "\n",
    "\n",
    "#!aws configure set aws_access_key_id \"$AWS_ACCESS_KEY_ID\"\n",
    "#!aws configure set aws_secret_access_key \"$AWS_SECRET_ACCESS_KEY\" \n",
    "#!aws configure set region \"us-east-1\" \n",
    "#!aws configure set output \"text\"\n",
    "\n",
    "\n",
    "#!sudo pip install pyathena \n",
    "#!sudo pip install ipython-sql\n",
    "#!pip install sqlalchemy\n",
    "\n"
   ]
  },
  {
   "cell_type": "code",
   "execution_count": null,
   "id": "7732c684",
   "metadata": {},
   "outputs": [],
   "source": []
  }
 ],
 "metadata": {
  "kernelspec": {
   "display_name": "Python 3 (ipykernel)",
   "language": "python",
   "name": "python3"
  },
  "language_info": {
   "codemirror_mode": {
    "name": "ipython",
    "version": 3
   },
   "file_extension": ".py",
   "mimetype": "text/x-python",
   "name": "python",
   "nbconvert_exporter": "python",
   "pygments_lexer": "ipython3",
   "version": "3.7.3"
  }
 },
 "nbformat": 4,
 "nbformat_minor": 5
}
