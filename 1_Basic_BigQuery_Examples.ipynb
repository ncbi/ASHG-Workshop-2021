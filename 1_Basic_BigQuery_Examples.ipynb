{
 "cells": [
  {
   "cell_type": "markdown",
   "id": "4fbb8205",
   "metadata": {},
   "source": [
    "# Getting Started with BigQuery SQL Searches\n",
    "First we need to install some packages and load the BigQuery extension. We can run this by clicking on the cell below and then clicking the Run button above."
   ]
  },
  {
   "cell_type": "markdown",
   "id": "3d3f9e96",
   "metadata": {},
   "source": [
    "```\n",
    "\n",
    "# These commands were run when the notebooks were created by the instructors  but are shown in case you choose to work with these Notebooks later.\n",
    "\n",
    "\n",
    "#!pip install google.cloud.bigquery\n",
    "#!pip install google.cloud.storage\n",
    "#pip3 install --upgrade google-cloud-bigquery\n",
    "#!pip install google --user\n",
    "#!pip install --upgrade 'google-cloud-bigquery[bqstorage,pandas]' --user\n",
    "\n",
    "\n",
    "```"
   ]
  },
  {
   "cell_type": "code",
   "execution_count": null,
   "id": "baf9d69c",
   "metadata": {},
   "outputs": [],
   "source": [
    "# Run this command block to install the BigQuery extension.\n",
    "%load_ext google.cloud.bigquery"
   ]
  },
  {
   "cell_type": "markdown",
   "id": "8b0c3c81",
   "metadata": {},
   "source": [
    "# Problem : I want to generate an assembly of Listeria monocytogenes but need sequence data that is almost entirely (90% or more) from that species.\n",
    "This is a question that can't be answered with Entrez on the NCBI website. You can find data by species but we will not know if it is mislabelled, contaminated, etc. without analysis. You can answer this question with a BigQuery search to find all the runs that meet these requirements and we'll do just that at the end of this notebook.\n",
    "\n",
    "## Getting Started with a Basic Query\n",
    "Here is a simple query to find 5 runs submitted for the organsim 'Listeria monocytogenes' from the nih-sra-datastore project. The first line you will see is %%bigquery. This command tells Jupyter to use the bigquery package we just installed. Everything below that line is the SQL query.\n",
    "This query searches for all (*) columns in the metadata table from the sra database in the project. We will filter for only the rows where the organism name is 'Listeria monocytogenes' and limit the output to only the first 5 rows by using the LIMIT function. \n",
    "\n",
    "One limitation of our view in Jupyter is only 20 columns are displayed. At the bottom of the results you will see 5 rows X 36 columns. But if you look closely there are 16 columns that are not visible in the middle of the output chart.\n",
    "\n",
    "If you are completely new to SQL you might find it helpful to have an SQL cheatsheet handy to refer to. Here is a link to one that covers many of the topics we will discuss but use any that you find easy to read. [SQL Basics Cheat Sheet](https://learnsql.com/blog/sql-basics-cheat-sheet/sql-basics-cheat-sheet-letter.pdf)"
   ]
  },
  {
   "cell_type": "code",
   "execution_count": null,
   "id": "81be3e67",
   "metadata": {
    "scrolled": true
   },
   "outputs": [],
   "source": [
    "%%bigquery\n",
    "\n",
    "SELECT distinct(count(acc))\n",
    "FROM `nih-sra-datastore.sra.metadata`\n",
    "WHERE organism = 'Listeria monocytogenes'\n",
    "#LIMIT 5"
   ]
  },
  {
   "cell_type": "markdown",
   "id": "8fea8d95",
   "metadata": {},
   "source": [
    "## SRA Taxonomy Analysis Tool (STAT)\n",
    "The contents of a sequence data submission is often quite large and can sometimes contains either multiple species like a metagenomic study or can be mislabelled or contaminated. A standardized taxonomic survey of the contents of records in the SRA is provided by the STAT tool and you can use this to decide if the record is likely to meet your needs before downloading files. [STAT Description Page](https://www.ncbi.nlm.nih.gov/sra/docs/sra-taxonomy-analysis-tool/)\n",
    "The output of this tool has been stored in the sra_tax_anaylysis_tool database.\n",
    "\n",
    "## Searching Tables in the STAT Database\n",
    "You will be using the Taxonomy Database Identifier (tax ID) to search the results from the STAT tool later so you need to find the tax ID for Listeria monocytogenes. You can find the tax_id for any entry in the taxonomy table using a search like the one below. "
   ]
  },
  {
   "cell_type": "code",
   "execution_count": null,
   "id": "21842a8a",
   "metadata": {},
   "outputs": [],
   "source": [
    "%%bigquery\n",
    "\n",
    "SELECT * \n",
    "FROM `nih-sra-datastore.sra_tax_analysis_tool.taxonomy`\n",
    "WHERE sci_name = 'Listeria monocytogenes'\n"
   ]
  },
  {
   "attachments": {
    "image.png": {
     "image/png": "[encoded data removed]"
    }
   },
   "cell_type": "markdown",
   "id": "ae0b3a0c",
   "metadata": {},
   "source": [
    "## Finding How the Database is Organized and Listing Columns\n",
    "You might already be asking the question of how you would know what columns to search and what the expected contents of the results would be for these databases. Knowing what the columns names are and the datatypes will be important when writing queries. For example SQL requires quotes around string values in searches but no quotes for integers. Here is the structure of databases and tables in the nih-sra-datastore.\n",
    "![image.png](attachment:image.png)\n",
    "\n",
    "We can use the query below to get a listing of the columns in the database schema as well as what type of data is in them. For a text description of the contents of a column you can go to the SRA documentation page. <https://www.ncbi.nlm.nih.gov/sra/docs/sra-cloud-based-examples/>"
   ]
  },
  {
   "cell_type": "code",
   "execution_count": null,
   "id": "e5c24031",
   "metadata": {},
   "outputs": [],
   "source": [
    "%%bigquery\n",
    "\n",
    "SELECT table_name, column_name, data_type \n",
    "FROM `nih-sra-datastore.sra`.INFORMATION_SCHEMA.COLUMNS"
   ]
  },
  {
   "cell_type": "markdown",
   "id": "2c2fbffd",
   "metadata": {},
   "source": [
    "## Listing Tables in a Database\n",
    "The `nih-sra-datastore.sra` database only has a single table but the STAT database has multiple tables. We can list each using this query."
   ]
  },
  {
   "cell_type": "code",
   "execution_count": null,
   "id": "c6a74f31",
   "metadata": {},
   "outputs": [],
   "source": [
    "%%bigquery\n",
    "\n",
    "SELECT * \n",
    "FROM `nih-sra-datastore.sra_tax_analysis_tool`.INFORMATION_SCHEMA.TABLES"
   ]
  },
  {
   "cell_type": "markdown",
   "id": "b8286ed0",
   "metadata": {},
   "source": [
    "## Listing All Columns in the SRA Tax Analysis Tool Database\n",
    "The STAT database has more tables than we saw in the metadata table but they are stored in multiple tables. The query we used to list the metadata columns will also work for the STAT database.  "
   ]
  },
  {
   "cell_type": "code",
   "execution_count": null,
   "id": "8a033521",
   "metadata": {},
   "outputs": [],
   "source": [
    "%%bigquery\n",
    "\n",
    "SELECT table_name, column_name, data_type \n",
    "FROM `nih-sra-datastore.sra_tax_analysis_tool`.INFORMATION_SCHEMA.COLUMNS"
   ]
  },
  {
   "attachments": {
    "image-2.png": {
     "image/png": "[encoded data removed]"
    }
   },
   "cell_type": "markdown",
   "id": "33f7938d",
   "metadata": {},
   "source": [
    "## Joining Two (or more) Tables\n",
    "Using a JOIN command will allow you to combine two different tables to find the information you are looking for. This allows data to be stored most efficiently in the database but also allows a user to view the information in a way they find easiest to understand. \n",
    "When joining two or more tables we will need to tell the database which columns in the two tables are expected to align or have the same content. We need a field that can be used to link each table. This value is what we are joining \"on\" in the statement. In this case we are using 'organism' from the metadata table and 'sci_name' from the taxonomy table. Often in a database the columns used to join two tables will have the same name. But that is not always the case, this is one example.\n",
    "![image-2.png](attachment:image-2.png)\n",
    "\n",
    "Below we'll combine the two queries from earlier. When specifying multiple tables to search we can also give an abbreviated name to the table ('meta' and 'tax' in the query below) to make the rest of the query easier to type and read."
   ]
  },
  {
   "cell_type": "code",
   "execution_count": null,
   "id": "45a293a7",
   "metadata": {},
   "outputs": [],
   "source": [
    "%%bigquery\n",
    "\n",
    "SELECT *\n",
    "FROM `nih-sra-datastore.sra.metadata` meta \n",
    "    JOIN `nih-sra-datastore.sra_tax_analysis_tool.taxonomy` tax\n",
    "    ON meta.organism = tax.sci_name\n",
    "WHERE tax.tax_id = 1639\n",
    "    AND meta.organism = 'Listeria monocytogenes'\n",
    "LIMIT 5"
   ]
  },
  {
   "cell_type": "markdown",
   "id": "54f6a913",
   "metadata": {},
   "source": [
    "## How to Show Only the Columns You Want to See\n",
    "Using * in the select statement will show all the columns in the table. Often you don't need or want all of the columns so you can show only the columns you are interested in. You do this by listing the desired columns in the select statement. These can be from more than one table (for example taxonomy and metadata) as well."
   ]
  },
  {
   "cell_type": "code",
   "execution_count": null,
   "id": "b89a5690",
   "metadata": {},
   "outputs": [],
   "source": [
    "%%bigquery\n",
    "\n",
    "SELECT meta.acc, meta.assay_type, meta.instrument, meta.libraryselection, meta.librarysource, meta.organism, tax.sci_name\n",
    "FROM `nih-sra-datastore.sra.metadata` meta \n",
    "    JOIN `nih-sra-datastore.sra_tax_analysis_tool.taxonomy` tax\n",
    "    ON meta.organism = tax.sci_name\n",
    "WHERE tax.tax_id = 1639\n",
    "    AND meta.organism = 'Listeria monocytogenes'\n",
    "    AND meta.assay_type = 'RNA-Seq'\n",
    "    AND meta.consent = 'public'\n",
    "LIMIT 5"
   ]
  },
  {
   "cell_type": "markdown",
   "id": "bc2b0ad1",
   "metadata": {},
   "source": [
    "## Putting it all Together\n",
    "Now let's go back to the original problem of someone who wants to do an alignment. We will combine some ideas from before as well as add some math into the search. To use the PGAP package from NCBI you will want data that has a high percentage (we'll use 90% as our minimum) of only one species to generate the assembly and annotation. We can use the output from STAT to do this. \n",
    "\n",
    "We want to make an assembly and annotation for Listeria monocytogenes and need sequence data from SRA. \n",
    "1. We'll use the taxid (1639) to search the tax_id column in the tax_analysis table. \n",
    "2. To know what proportion of the spots have been identified to the taxid we are searching for, we also need to use the total analyzed_spot_count from the tax_analysis_info table for each run. \n",
    "3. We will need to join these two tables on the run accession (acc) to run this query.\n",
    "\n",
    "Finally we can sort by the proportion of the spots that were identified as being from the taxid we want to search."
   ]
  },
  {
   "cell_type": "code",
   "execution_count": null,
   "id": "969f780b",
   "metadata": {},
   "outputs": [],
   "source": [
    "%%bigquery\n",
    "\n",
    "SELECT a.acc, a.name, info.analyzed_spot_count, a.self_count, a.self_count/info.analyzed_spot_count as proportion\n",
    "FROM `nih-sra-datastore.sra_tax_analysis_tool.tax_analysis` a \n",
    "    JOIN `nih-sra-datastore.sra_tax_analysis_tool.tax_analysis_info` info \n",
    "    ON a.acc = info.acc\n",
    "WHERE  a.tax_id = 1639\n",
    "    AND a.self_count/info.analyzed_spot_count > .9\n",
    "    AND info.analyzed_spot_count > 100000\n",
    "ORDER BY proportion DESC"
   ]
  },
  {
   "attachments": {
    "search_comparison.png": {
     "image/png": "[encoded data removed]"
    }
   },
   "cell_type": "markdown",
   "id": "28d005b8",
   "metadata": {},
   "source": [
    "## Taxonomy ID Searches of STAT Results \n",
    "Let's take a minute to talk about why the above query can be so useful. If we were to just look for records with the organism as 'Listeria monocytogenes' we would get almost 51,000 records in the metadata table. Some of them will have little to no sequence data from this organism. There can be many reasons why this would occur but it can make finding data to do analysis on difficult. If we were to look just at the STAT results for every record in the database looking for any data identified from Listeria monocytogenes, we would have over 400,000 records. Many of those results will be a small volume of sequence within metagenomic research. \n",
    "\n",
    " ![search_comparison.png](attachment:search_comparison.png)\n",
    "\n",
    "| Method | Hits |\n",
    "|---------|---------|\n",
    "| Above Query | 16153 |\n",
    "| Search using Organism\t| 50954 |\n",
    "| Search using TaxID in STAT | 424155 |\n",
    "| Unique Accessions in Metadata Table | 14769705 |\n",
    "\n",
    "The STAT results are not a definitive anaylsis of the contents of the runs because not all species have reference genomes or will be used when anaylyzing the sequence data in SRA. However the tool can be a very fast way to survey the contents of a run to determine if the data contains the species or sets of species you are looking for. You could alter the queries here to look for runs that have a specific list of species or even a minimum number of different species for metagenomic analysis."
   ]
  },
  {
   "cell_type": "markdown",
   "id": "2107acba",
   "metadata": {},
   "source": []
  }
 ],
 "metadata": {
  "kernelspec": {
   "display_name": "Python 3 (ipykernel)",
   "language": "python",
   "name": "python3"
  },
  "language_info": {
   "codemirror_mode": {
    "name": "ipython",
    "version": 3
   },
   "file_extension": ".py",
   "mimetype": "text/x-python",
   "name": "python",
   "nbconvert_exporter": "python",
   "pygments_lexer": "ipython3",
   "version": "3.7.3"
  }
 },
 "nbformat": 4,
 "nbformat_minor": 5
}
